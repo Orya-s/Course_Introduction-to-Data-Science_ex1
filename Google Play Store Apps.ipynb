{
 "cells": [
  {
   "cell_type": "code",
   "execution_count": 1,
   "metadata": {},
   "outputs": [],
   "source": [
    "import numpy as np\n",
    "import pandas as pd\n",
    "import matplotlib.pyplot as plt\n",
    "import matplotlib\n",
    "import seaborn as sns\n",
    "%matplotlib inline\n",
    "from sklearn.model_selection import train_test_split\n",
    "from sklearn.neighbors import KNeighborsClassifier\n",
    "from sklearn.linear_model import LogisticRegression\n",
    "from sklearn.ensemble import RandomForestClassifier\n",
    "from sklearn import metrics\n",
    "from sklearn.metrics import classification_report,confusion_matrix"
   ]
  },
  {
   "cell_type": "code",
   "execution_count": 2,
   "metadata": {},
   "outputs": [
    {
     "data": {
      "text/html": [
       "<div>\n",
       "<style scoped>\n",
       "    .dataframe tbody tr th:only-of-type {\n",
       "        vertical-align: middle;\n",
       "    }\n",
       "\n",
       "    .dataframe tbody tr th {\n",
       "        vertical-align: top;\n",
       "    }\n",
       "\n",
       "    .dataframe thead th {\n",
       "        text-align: right;\n",
       "    }\n",
       "</style>\n",
       "<table border=\"1\" class=\"dataframe\">\n",
       "  <thead>\n",
       "    <tr style=\"text-align: right;\">\n",
       "      <th></th>\n",
       "      <th>App Name</th>\n",
       "      <th>Category</th>\n",
       "      <th>Rating</th>\n",
       "      <th>Reviews</th>\n",
       "      <th>Installs</th>\n",
       "      <th>Size</th>\n",
       "      <th>Price</th>\n",
       "      <th>Content Rating</th>\n",
       "      <th>Last Updated</th>\n",
       "      <th>Minimum Version</th>\n",
       "      <th>Latest Version</th>\n",
       "    </tr>\n",
       "  </thead>\n",
       "  <tbody>\n",
       "    <tr>\n",
       "      <td>0</td>\n",
       "      <td>DoorDash - Food Delivery</td>\n",
       "      <td>FOOD_AND_DRINK</td>\n",
       "      <td>4.548561573</td>\n",
       "      <td>305034.0</td>\n",
       "      <td>5,000,000+</td>\n",
       "      <td>Varies with device</td>\n",
       "      <td>0</td>\n",
       "      <td>Everyone</td>\n",
       "      <td>29-Mar-19</td>\n",
       "      <td>Varies with device</td>\n",
       "      <td>Varies with device</td>\n",
       "    </tr>\n",
       "    <tr>\n",
       "      <td>1</td>\n",
       "      <td>TripAdvisor Hotels Flights Restaurants Attract...</td>\n",
       "      <td>TRAVEL_AND_LOCAL</td>\n",
       "      <td>4.400671482</td>\n",
       "      <td>1207922.0</td>\n",
       "      <td>100,000,000+</td>\n",
       "      <td>Varies with device</td>\n",
       "      <td>0</td>\n",
       "      <td>Everyone</td>\n",
       "      <td>29-Mar-19</td>\n",
       "      <td>Varies with device</td>\n",
       "      <td>Varies with device</td>\n",
       "    </tr>\n",
       "    <tr>\n",
       "      <td>2</td>\n",
       "      <td>Peapod</td>\n",
       "      <td>SHOPPING</td>\n",
       "      <td>3.656329393</td>\n",
       "      <td>1967.0</td>\n",
       "      <td>100,000+</td>\n",
       "      <td>1.4M</td>\n",
       "      <td>0</td>\n",
       "      <td>Everyone</td>\n",
       "      <td>20-Sep-18</td>\n",
       "      <td>5.0 and up</td>\n",
       "      <td>2.2.0</td>\n",
       "    </tr>\n",
       "    <tr>\n",
       "      <td>3</td>\n",
       "      <td>foodpanda - Local Food Delivery</td>\n",
       "      <td>FOOD_AND_DRINK</td>\n",
       "      <td>4.107232571</td>\n",
       "      <td>389154.0</td>\n",
       "      <td>10,000,000+</td>\n",
       "      <td>16M</td>\n",
       "      <td>0</td>\n",
       "      <td>Everyone</td>\n",
       "      <td>22-Mar-19</td>\n",
       "      <td>4.2 and up</td>\n",
       "      <td>4.18.2</td>\n",
       "    </tr>\n",
       "    <tr>\n",
       "      <td>4</td>\n",
       "      <td>My CookBook Pro (Ad Free)</td>\n",
       "      <td>FOOD_AND_DRINK</td>\n",
       "      <td>4.647752285</td>\n",
       "      <td>2291.0</td>\n",
       "      <td>10,000+</td>\n",
       "      <td>Varies with device</td>\n",
       "      <td>$5.99</td>\n",
       "      <td>Everyone</td>\n",
       "      <td>1-Apr-19</td>\n",
       "      <td>Varies with device</td>\n",
       "      <td>Varies with device</td>\n",
       "    </tr>\n",
       "    <tr>\n",
       "      <td>...</td>\n",
       "      <td>...</td>\n",
       "      <td>...</td>\n",
       "      <td>...</td>\n",
       "      <td>...</td>\n",
       "      <td>...</td>\n",
       "      <td>...</td>\n",
       "      <td>...</td>\n",
       "      <td>...</td>\n",
       "      <td>...</td>\n",
       "      <td>...</td>\n",
       "      <td>...</td>\n",
       "    </tr>\n",
       "    <tr>\n",
       "      <td>31995</td>\n",
       "      <td>KG Newsroom</td>\n",
       "      <td>NEWS_AND_MAGAZINES</td>\n",
       "      <td>4.5</td>\n",
       "      <td>8.0</td>\n",
       "      <td>50+</td>\n",
       "      <td>9.6M</td>\n",
       "      <td>0</td>\n",
       "      <td>Everyone</td>\n",
       "      <td>28-Mar-19</td>\n",
       "      <td>4.1 and up</td>\n",
       "      <td>1.1.15</td>\n",
       "    </tr>\n",
       "    <tr>\n",
       "      <td>31996</td>\n",
       "      <td>Dedi App 19</td>\n",
       "      <td>GAME_SIMULATION</td>\n",
       "      <td>3.521126747</td>\n",
       "      <td>71.0</td>\n",
       "      <td>10,000+</td>\n",
       "      <td>6.5M</td>\n",
       "      <td>0</td>\n",
       "      <td>Everyone</td>\n",
       "      <td>22-Jan-19</td>\n",
       "      <td>4.4 and up</td>\n",
       "      <td>1.0.2274</td>\n",
       "    </tr>\n",
       "    <tr>\n",
       "      <td>31997</td>\n",
       "      <td>Dedi App 17</td>\n",
       "      <td>GAME_SIMULATION</td>\n",
       "      <td>3.994588852</td>\n",
       "      <td>924.0</td>\n",
       "      <td>100,000+</td>\n",
       "      <td>7.9M</td>\n",
       "      <td>0</td>\n",
       "      <td>Everyone</td>\n",
       "      <td>17-Feb-17</td>\n",
       "      <td>4.0.3 and up</td>\n",
       "      <td>1.1.2043</td>\n",
       "    </tr>\n",
       "    <tr>\n",
       "      <td>31998</td>\n",
       "      <td>Right Angle Triangle Solver</td>\n",
       "      <td>TOOLS</td>\n",
       "      <td>4.25</td>\n",
       "      <td>1796.0</td>\n",
       "      <td>100,000+</td>\n",
       "      <td>6.8M</td>\n",
       "      <td>0</td>\n",
       "      <td>Everyone</td>\n",
       "      <td>15-Dec-18</td>\n",
       "      <td>4.1 and up</td>\n",
       "      <td>2.0.5</td>\n",
       "    </tr>\n",
       "    <tr>\n",
       "      <td>31999</td>\n",
       "      <td>Gummy Pop: Chain Reaction Game</td>\n",
       "      <td>GAME_PUZZLE</td>\n",
       "      <td>4.224199295</td>\n",
       "      <td>3372.0</td>\n",
       "      <td>100,000+</td>\n",
       "      <td>35M</td>\n",
       "      <td>0</td>\n",
       "      <td>Everyone</td>\n",
       "      <td>27-Sep-16</td>\n",
       "      <td>4.0 and up</td>\n",
       "      <td>1.2.10</td>\n",
       "    </tr>\n",
       "  </tbody>\n",
       "</table>\n",
       "<p>32000 rows × 11 columns</p>\n",
       "</div>"
      ],
      "text/plain": [
       "                                                App Name            Category  \\\n",
       "0                               DoorDash - Food Delivery      FOOD_AND_DRINK   \n",
       "1      TripAdvisor Hotels Flights Restaurants Attract...    TRAVEL_AND_LOCAL   \n",
       "2                                                 Peapod            SHOPPING   \n",
       "3                        foodpanda - Local Food Delivery      FOOD_AND_DRINK   \n",
       "4                              My CookBook Pro (Ad Free)      FOOD_AND_DRINK   \n",
       "...                                                  ...                 ...   \n",
       "31995                                        KG Newsroom  NEWS_AND_MAGAZINES   \n",
       "31996                                        Dedi App 19     GAME_SIMULATION   \n",
       "31997                                        Dedi App 17     GAME_SIMULATION   \n",
       "31998                        Right Angle Triangle Solver               TOOLS   \n",
       "31999                     Gummy Pop: Chain Reaction Game         GAME_PUZZLE   \n",
       "\n",
       "            Rating    Reviews      Installs                Size   Price  \\\n",
       "0      4.548561573   305034.0    5,000,000+  Varies with device       0   \n",
       "1      4.400671482  1207922.0  100,000,000+  Varies with device       0   \n",
       "2      3.656329393     1967.0      100,000+                1.4M       0   \n",
       "3      4.107232571   389154.0   10,000,000+                 16M       0   \n",
       "4      4.647752285     2291.0       10,000+  Varies with device  $5.99    \n",
       "...            ...        ...           ...                 ...     ...   \n",
       "31995          4.5        8.0           50+                9.6M       0   \n",
       "31996  3.521126747       71.0       10,000+                6.5M       0   \n",
       "31997  3.994588852      924.0      100,000+                7.9M       0   \n",
       "31998         4.25     1796.0      100,000+                6.8M       0   \n",
       "31999  4.224199295     3372.0      100,000+                 35M       0   \n",
       "\n",
       "      Content Rating Last Updated     Minimum Version      Latest Version  \n",
       "0           Everyone    29-Mar-19  Varies with device  Varies with device  \n",
       "1           Everyone    29-Mar-19  Varies with device  Varies with device  \n",
       "2           Everyone    20-Sep-18          5.0 and up               2.2.0  \n",
       "3           Everyone    22-Mar-19          4.2 and up              4.18.2  \n",
       "4           Everyone     1-Apr-19  Varies with device  Varies with device  \n",
       "...              ...          ...                 ...                 ...  \n",
       "31995       Everyone    28-Mar-19          4.1 and up              1.1.15  \n",
       "31996       Everyone    22-Jan-19          4.4 and up            1.0.2274  \n",
       "31997       Everyone    17-Feb-17        4.0.3 and up            1.1.2043  \n",
       "31998       Everyone    15-Dec-18          4.1 and up               2.0.5  \n",
       "31999       Everyone    27-Sep-16          4.0 and up              1.2.10  \n",
       "\n",
       "[32000 rows x 11 columns]"
      ]
     },
     "execution_count": 2,
     "metadata": {},
     "output_type": "execute_result"
    }
   ],
   "source": [
    "df= pd.read_csv('data/Google-Playstore-32K.csv')\n",
    "df"
   ]
  },
  {
   "cell_type": "code",
   "execution_count": 3,
   "metadata": {},
   "outputs": [
    {
     "data": {
      "text/plain": [
       "(32000, 11)"
      ]
     },
     "execution_count": 3,
     "metadata": {},
     "output_type": "execute_result"
    }
   ],
   "source": [
    "df.shape"
   ]
  },
  {
   "cell_type": "code",
   "execution_count": 4,
   "metadata": {},
   "outputs": [
    {
     "name": "stdout",
     "output_type": "stream",
     "text": [
      "<class 'pandas.core.frame.DataFrame'>\n",
      "RangeIndex: 32000 entries, 0 to 31999\n",
      "Data columns (total 11 columns):\n",
      "App Name           32000 non-null object\n",
      "Category           32000 non-null object\n",
      "Rating             32000 non-null object\n",
      "Reviews            31999 non-null float64\n",
      "Installs           32000 non-null object\n",
      "Size               32000 non-null object\n",
      "Price              32000 non-null object\n",
      "Content Rating     32000 non-null object\n",
      "Last Updated       32000 non-null object\n",
      "Minimum Version    32000 non-null object\n",
      "Latest Version     31997 non-null object\n",
      "dtypes: float64(1), object(10)\n",
      "memory usage: 2.7+ MB\n"
     ]
    }
   ],
   "source": [
    "df.info()"
   ]
  },
  {
   "cell_type": "markdown",
   "metadata": {},
   "source": [
    "## Our features: \n",
    "\n",
    "App Name- The name of the app.\n",
    "\n",
    "Category- Main category of the app.\n",
    "\n",
    "Rating- Averege rate for the app.\n",
    "\n",
    "Reviews- How many times the app have been rated.\n",
    "\n",
    "Installs- How many times the app have been installed.\n",
    "\n",
    "Size- the size of the app.\n",
    "\n",
    "Price- the price of the app in dollars.\n",
    "\n",
    "Content Rating- Intended audience of the app.\n",
    "\n",
    "Last Updated- Last Updated date.\n",
    "\n",
    "Minimum Version- Minimum Android version required to run the app.\n",
    "\n",
    "Latest Version- Current version of the app.\n"
   ]
  },
  {
   "cell_type": "code",
   "execution_count": 5,
   "metadata": {},
   "outputs": [
    {
     "data": {
      "text/plain": [
       "App Name           0\n",
       "Category           0\n",
       "Rating             0\n",
       "Reviews            1\n",
       "Installs           0\n",
       "Size               0\n",
       "Price              0\n",
       "Content Rating     0\n",
       "Last Updated       0\n",
       "Minimum Version    0\n",
       "Latest Version     3\n",
       "dtype: int64"
      ]
     },
     "execution_count": 5,
     "metadata": {},
     "output_type": "execute_result"
    }
   ],
   "source": [
    "df.isnull().sum()"
   ]
  },
  {
   "cell_type": "code",
   "execution_count": 6,
   "metadata": {},
   "outputs": [
    {
     "data": {
      "text/plain": [
       "App Name           0\n",
       "Category           0\n",
       "Rating             0\n",
       "Reviews            1\n",
       "Installs           0\n",
       "Size               0\n",
       "Price              0\n",
       "Content Rating     0\n",
       "Last Updated       0\n",
       "Minimum Version    0\n",
       "Latest Version     0\n",
       "dtype: int64"
      ]
     },
     "execution_count": 6,
     "metadata": {},
     "output_type": "execute_result"
    }
   ],
   "source": [
    "#We have three apps without the Latest version, I'm assumeing it means it varies with device.\n",
    "#I'm making this desicion because the Latest Version is not going to influence the prediction.\n",
    "df['Latest Version'].fillna(value='Varies with device', inplace=True)\n",
    "\n",
    "df.isnull().sum()"
   ]
  },
  {
   "cell_type": "code",
   "execution_count": 7,
   "metadata": {},
   "outputs": [
    {
     "data": {
      "text/plain": [
       "App Name           0\n",
       "Category           0\n",
       "Rating             0\n",
       "Reviews            0\n",
       "Installs           0\n",
       "Size               0\n",
       "Price              0\n",
       "Content Rating     0\n",
       "Last Updated       0\n",
       "Minimum Version    0\n",
       "Latest Version     0\n",
       "dtype: int64"
      ]
     },
     "execution_count": 7,
     "metadata": {},
     "output_type": "execute_result"
    }
   ],
   "source": [
    "#Because the amount of reviews is important for the prediction, we can't have a row without it.\n",
    "df= df.dropna()\n",
    "\n",
    "df.isnull().sum()"
   ]
  },
  {
   "cell_type": "code",
   "execution_count": 8,
   "metadata": {},
   "outputs": [
    {
     "data": {
      "text/html": [
       "<div>\n",
       "<style scoped>\n",
       "    .dataframe tbody tr th:only-of-type {\n",
       "        vertical-align: middle;\n",
       "    }\n",
       "\n",
       "    .dataframe tbody tr th {\n",
       "        vertical-align: top;\n",
       "    }\n",
       "\n",
       "    .dataframe thead th {\n",
       "        text-align: right;\n",
       "    }\n",
       "</style>\n",
       "<table border=\"1\" class=\"dataframe\">\n",
       "  <thead>\n",
       "    <tr style=\"text-align: right;\">\n",
       "      <th></th>\n",
       "      <th>App Name</th>\n",
       "      <th>Category</th>\n",
       "      <th>Rating</th>\n",
       "      <th>Reviews</th>\n",
       "      <th>Installs</th>\n",
       "      <th>Size</th>\n",
       "      <th>Price</th>\n",
       "      <th>Content Rating</th>\n",
       "      <th>Last Updated</th>\n",
       "      <th>Minimum Version</th>\n",
       "      <th>Latest Version</th>\n",
       "    </tr>\n",
       "  </thead>\n",
       "  <tbody>\n",
       "    <tr>\n",
       "      <td>0</td>\n",
       "      <td>DoorDash - Food Delivery</td>\n",
       "      <td>FOOD_AND_DRINK</td>\n",
       "      <td>4.548561573</td>\n",
       "      <td>305034.0</td>\n",
       "      <td>5,000,000+</td>\n",
       "      <td>Varies with device</td>\n",
       "      <td>0</td>\n",
       "      <td>Everyone</td>\n",
       "      <td>29-Mar-19</td>\n",
       "      <td>Varies with device</td>\n",
       "      <td>Varies with device</td>\n",
       "    </tr>\n",
       "    <tr>\n",
       "      <td>1</td>\n",
       "      <td>TripAdvisor Hotels Flights Restaurants Attract...</td>\n",
       "      <td>TRAVEL_AND_LOCAL</td>\n",
       "      <td>4.400671482</td>\n",
       "      <td>1207922.0</td>\n",
       "      <td>100,000,000+</td>\n",
       "      <td>Varies with device</td>\n",
       "      <td>0</td>\n",
       "      <td>Everyone</td>\n",
       "      <td>29-Mar-19</td>\n",
       "      <td>Varies with device</td>\n",
       "      <td>Varies with device</td>\n",
       "    </tr>\n",
       "    <tr>\n",
       "      <td>2</td>\n",
       "      <td>Peapod</td>\n",
       "      <td>SHOPPING</td>\n",
       "      <td>3.656329393</td>\n",
       "      <td>1967.0</td>\n",
       "      <td>100,000+</td>\n",
       "      <td>1.4M</td>\n",
       "      <td>0</td>\n",
       "      <td>Everyone</td>\n",
       "      <td>20-Sep-18</td>\n",
       "      <td>5.0 and up</td>\n",
       "      <td>2.2.0</td>\n",
       "    </tr>\n",
       "    <tr>\n",
       "      <td>3</td>\n",
       "      <td>foodpanda - Local Food Delivery</td>\n",
       "      <td>FOOD_AND_DRINK</td>\n",
       "      <td>4.107232571</td>\n",
       "      <td>389154.0</td>\n",
       "      <td>10,000,000+</td>\n",
       "      <td>16M</td>\n",
       "      <td>0</td>\n",
       "      <td>Everyone</td>\n",
       "      <td>22-Mar-19</td>\n",
       "      <td>4.2 and up</td>\n",
       "      <td>4.18.2</td>\n",
       "    </tr>\n",
       "    <tr>\n",
       "      <td>4</td>\n",
       "      <td>My CookBook Pro (Ad Free)</td>\n",
       "      <td>FOOD_AND_DRINK</td>\n",
       "      <td>4.647752285</td>\n",
       "      <td>2291.0</td>\n",
       "      <td>10,000+</td>\n",
       "      <td>Varies with device</td>\n",
       "      <td>$5.99</td>\n",
       "      <td>Everyone</td>\n",
       "      <td>1-Apr-19</td>\n",
       "      <td>Varies with device</td>\n",
       "      <td>Varies with device</td>\n",
       "    </tr>\n",
       "    <tr>\n",
       "      <td>...</td>\n",
       "      <td>...</td>\n",
       "      <td>...</td>\n",
       "      <td>...</td>\n",
       "      <td>...</td>\n",
       "      <td>...</td>\n",
       "      <td>...</td>\n",
       "      <td>...</td>\n",
       "      <td>...</td>\n",
       "      <td>...</td>\n",
       "      <td>...</td>\n",
       "      <td>...</td>\n",
       "    </tr>\n",
       "    <tr>\n",
       "      <td>31995</td>\n",
       "      <td>KG Newsroom</td>\n",
       "      <td>NEWS_AND_MAGAZINES</td>\n",
       "      <td>4.5</td>\n",
       "      <td>8.0</td>\n",
       "      <td>50+</td>\n",
       "      <td>9.6M</td>\n",
       "      <td>0</td>\n",
       "      <td>Everyone</td>\n",
       "      <td>28-Mar-19</td>\n",
       "      <td>4.1 and up</td>\n",
       "      <td>1.1.15</td>\n",
       "    </tr>\n",
       "    <tr>\n",
       "      <td>31996</td>\n",
       "      <td>Dedi App 19</td>\n",
       "      <td>GAME_SIMULATION</td>\n",
       "      <td>3.521126747</td>\n",
       "      <td>71.0</td>\n",
       "      <td>10,000+</td>\n",
       "      <td>6.5M</td>\n",
       "      <td>0</td>\n",
       "      <td>Everyone</td>\n",
       "      <td>22-Jan-19</td>\n",
       "      <td>4.4 and up</td>\n",
       "      <td>1.0.2274</td>\n",
       "    </tr>\n",
       "    <tr>\n",
       "      <td>31997</td>\n",
       "      <td>Dedi App 17</td>\n",
       "      <td>GAME_SIMULATION</td>\n",
       "      <td>3.994588852</td>\n",
       "      <td>924.0</td>\n",
       "      <td>100,000+</td>\n",
       "      <td>7.9M</td>\n",
       "      <td>0</td>\n",
       "      <td>Everyone</td>\n",
       "      <td>17-Feb-17</td>\n",
       "      <td>4.0.3 and up</td>\n",
       "      <td>1.1.2043</td>\n",
       "    </tr>\n",
       "    <tr>\n",
       "      <td>31998</td>\n",
       "      <td>Right Angle Triangle Solver</td>\n",
       "      <td>TOOLS</td>\n",
       "      <td>4.25</td>\n",
       "      <td>1796.0</td>\n",
       "      <td>100,000+</td>\n",
       "      <td>6.8M</td>\n",
       "      <td>0</td>\n",
       "      <td>Everyone</td>\n",
       "      <td>15-Dec-18</td>\n",
       "      <td>4.1 and up</td>\n",
       "      <td>2.0.5</td>\n",
       "    </tr>\n",
       "    <tr>\n",
       "      <td>31999</td>\n",
       "      <td>Gummy Pop: Chain Reaction Game</td>\n",
       "      <td>GAME_PUZZLE</td>\n",
       "      <td>4.224199295</td>\n",
       "      <td>3372.0</td>\n",
       "      <td>100,000+</td>\n",
       "      <td>35M</td>\n",
       "      <td>0</td>\n",
       "      <td>Everyone</td>\n",
       "      <td>27-Sep-16</td>\n",
       "      <td>4.0 and up</td>\n",
       "      <td>1.2.10</td>\n",
       "    </tr>\n",
       "  </tbody>\n",
       "</table>\n",
       "<p>31999 rows × 11 columns</p>\n",
       "</div>"
      ],
      "text/plain": [
       "                                                App Name            Category  \\\n",
       "0                               DoorDash - Food Delivery      FOOD_AND_DRINK   \n",
       "1      TripAdvisor Hotels Flights Restaurants Attract...    TRAVEL_AND_LOCAL   \n",
       "2                                                 Peapod            SHOPPING   \n",
       "3                        foodpanda - Local Food Delivery      FOOD_AND_DRINK   \n",
       "4                              My CookBook Pro (Ad Free)      FOOD_AND_DRINK   \n",
       "...                                                  ...                 ...   \n",
       "31995                                        KG Newsroom  NEWS_AND_MAGAZINES   \n",
       "31996                                        Dedi App 19     GAME_SIMULATION   \n",
       "31997                                        Dedi App 17     GAME_SIMULATION   \n",
       "31998                        Right Angle Triangle Solver               TOOLS   \n",
       "31999                     Gummy Pop: Chain Reaction Game         GAME_PUZZLE   \n",
       "\n",
       "            Rating    Reviews      Installs                Size   Price  \\\n",
       "0      4.548561573   305034.0    5,000,000+  Varies with device       0   \n",
       "1      4.400671482  1207922.0  100,000,000+  Varies with device       0   \n",
       "2      3.656329393     1967.0      100,000+                1.4M       0   \n",
       "3      4.107232571   389154.0   10,000,000+                 16M       0   \n",
       "4      4.647752285     2291.0       10,000+  Varies with device  $5.99    \n",
       "...            ...        ...           ...                 ...     ...   \n",
       "31995          4.5        8.0           50+                9.6M       0   \n",
       "31996  3.521126747       71.0       10,000+                6.5M       0   \n",
       "31997  3.994588852      924.0      100,000+                7.9M       0   \n",
       "31998         4.25     1796.0      100,000+                6.8M       0   \n",
       "31999  4.224199295     3372.0      100,000+                 35M       0   \n",
       "\n",
       "      Content Rating Last Updated     Minimum Version      Latest Version  \n",
       "0           Everyone    29-Mar-19  Varies with device  Varies with device  \n",
       "1           Everyone    29-Mar-19  Varies with device  Varies with device  \n",
       "2           Everyone    20-Sep-18          5.0 and up               2.2.0  \n",
       "3           Everyone    22-Mar-19          4.2 and up              4.18.2  \n",
       "4           Everyone     1-Apr-19  Varies with device  Varies with device  \n",
       "...              ...          ...                 ...                 ...  \n",
       "31995       Everyone    28-Mar-19          4.1 and up              1.1.15  \n",
       "31996       Everyone    22-Jan-19          4.4 and up            1.0.2274  \n",
       "31997       Everyone    17-Feb-17        4.0.3 and up            1.1.2043  \n",
       "31998       Everyone    15-Dec-18          4.1 and up               2.0.5  \n",
       "31999       Everyone    27-Sep-16          4.0 and up              1.2.10  \n",
       "\n",
       "[31999 rows x 11 columns]"
      ]
     },
     "execution_count": 8,
     "metadata": {},
     "output_type": "execute_result"
    }
   ],
   "source": [
    "df"
   ]
  },
  {
   "cell_type": "code",
   "execution_count": null,
   "metadata": {},
   "outputs": [],
   "source": []
  },
  {
   "cell_type": "code",
   "execution_count": 9,
   "metadata": {},
   "outputs": [
    {
     "name": "stdout",
     "output_type": "stream",
     "text": [
      "The data has 49 different categories\n"
     ]
    },
    {
     "data": {
      "text/plain": [
       "EDUCATION              3431\n",
       "TOOLS                  2399\n",
       "ENTERTAINMENT          2085\n",
       "BOOKS_AND_REFERENCE    1639\n",
       "LIFESTYLE              1368\n",
       "FINANCE                1367\n",
       "MUSIC_AND_AUDIO        1343\n",
       "PRODUCTIVITY           1113\n",
       "BUSINESS               1030\n",
       "GAME_PUZZLE            1006\n",
       "PERSONALIZATION         839\n",
       "NEWS_AND_MAGAZINES      826\n",
       "HEALTH_AND_FITNESS      801\n",
       "TRAVEL_AND_LOCAL        722\n",
       "GAME_CASUAL             708\n",
       "GAME_ARCADE             671\n",
       "PHOTOGRAPHY             663\n",
       "SHOPPING                662\n",
       "COMMUNICATION           637\n",
       "SPORTS                  613\n",
       "GAME_ACTION             573\n",
       "GAME_SIMULATION         517\n",
       "GAME_CARD               497\n",
       "MEDICAL                 495\n",
       "GAME_EDUCATIONAL        493\n",
       "FOOD_AND_DRINK          459\n",
       "SOCIAL                  431\n",
       "GAME_ROLE_PLAYING       421\n",
       "GAME_STRATEGY           362\n",
       "MAPS_AND_NAVIGATION     361\n",
       "VIDEO_PLAYERS           331\n",
       "GAME_RACING             319\n",
       "GAME_ADVENTURE          316\n",
       "GAME_SPORTS             305\n",
       "GAME_WORD               272\n",
       "GAME_BOARD              271\n",
       "AUTO_AND_VEHICLES       222\n",
       "WEATHER                 200\n",
       "ART_AND_DESIGN          163\n",
       "GAME_CASINO             158\n",
       "GAME_TRIVIA             145\n",
       "HOUSE_AND_HOME          128\n",
       "PARENTING               109\n",
       "DATING                  103\n",
       "GAME_MUSIC               97\n",
       "EVENTS                   93\n",
       "BEAUTY                   90\n",
       "COMICS                   81\n",
       "LIBRARIES_AND_DEMO       64\n",
       "Name: Category, dtype: int64"
      ]
     },
     "execution_count": 9,
     "metadata": {},
     "output_type": "execute_result"
    }
   ],
   "source": [
    "print('The data has', df['Category'].nunique(), 'different categories')\n",
    "\n",
    "df['Category'].value_counts()"
   ]
  },
  {
   "cell_type": "code",
   "execution_count": 10,
   "metadata": {},
   "outputs": [
    {
     "data": {
      "text/plain": [
       "<matplotlib.axes._subplots.AxesSubplot at 0x1c96a97c988>"
      ]
     },
     "execution_count": 10,
     "metadata": {},
     "output_type": "execute_result"
    },
    {
     "data": {
      "image/png": "[encoded data removed]",
      "text/plain": [
       "<Figure size 576x720 with 1 Axes>"
      ]
     },
     "metadata": {},
     "output_type": "display_data"
    }
   ],
   "source": [
    "df['Category'].value_counts().plot(kind= 'pie', figsize= (8,10), fontsize=8.5, label='')"
   ]
  },
  {
   "cell_type": "code",
   "execution_count": 11,
   "metadata": {},
   "outputs": [],
   "source": [
    "df2= df"
   ]
  },
  {
   "cell_type": "code",
   "execution_count": 12,
   "metadata": {},
   "outputs": [
    {
     "name": "stdout",
     "output_type": "stream",
     "text": [
      "The data has 33 different categories\n"
     ]
    },
    {
     "name": "stderr",
     "output_type": "stream",
     "text": [
      "C:\\Users\\oryas\\Anaconda3\\lib\\site-packages\\ipykernel_launcher.py:53: SettingWithCopyWarning: \n",
      "A value is trying to be set on a copy of a slice from a DataFrame.\n",
      "Try using .loc[row_indexer,col_indexer] = value instead\n",
      "\n",
      "See the caveats in the documentation: http://pandas.pydata.org/pandas-docs/stable/user_guide/indexing.html#returning-a-view-versus-a-copy\n"
     ]
    },
    {
     "data": {
      "image/png": "[encoded data removed]",
      "text/plain": [
       "<Figure size 576x720 with 1 Axes>"
      ]
     },
     "metadata": {},
     "output_type": "display_data"
    }
   ],
   "source": [
    "#Preparing the data\n",
    "#We will combine all the Game categories to one category called 'GAME'.\n",
    "\n",
    "df2['Category']= df2['Category'].map({\n",
    "    'EDUCATION': 1,\n",
    "    'TOOLS': 2,\n",
    "    'ENTERTAINMENT': 3,\n",
    "    'BOOKS_AND_REFERENCE': 4,\n",
    "    'LIFESTYLE': 5,\n",
    "    'FINANCE': 6,\n",
    "    'MUSIC_AND_AUDIO': 7,\n",
    "    'PRODUCTIVITY': 8,\n",
    "    'BUSINESS': 9,\n",
    "    'GAME_PUZZLE': 10,\n",
    "    'PERSONALIZATION': 11,\n",
    "    'NEWS_AND_MAGAZINES': 12,\n",
    "    'HEALTH_AND_FITNESS': 13,\n",
    "    'TRAVEL_AND_LOCAL': 14,\n",
    "    'GAME_CASUAL': 10,\n",
    "    'GAME_ARCADE': 10,\n",
    "    'PHOTOGRAPHY': 15,\n",
    "    'SHOPPING': 16,\n",
    "    'COMMUNICATION': 17,\n",
    "    'SPORTS': 18,\n",
    "    'GAME_ACTION': 10,\n",
    "    'GAME_SIMULATION': 10,\n",
    "    'GAME_CARD': 10,\n",
    "    'MEDICAL': 19,\n",
    "    'GAME_EDUCATIONAL': 10,\n",
    "    'FOOD_AND_DRINK': 20,\n",
    "    'SOCIAL': 21,\n",
    "    'GAME_ROLE_PLAYING': 10,\n",
    "    'GAME_STRATEGY': 10,\n",
    "    'MAPS_AND_NAVIGATION': 22,\n",
    "    'VIDEO_PLAYERS': 23,\n",
    "    'GAME_RACING': 10,\n",
    "    'GAME_ADVENTURE': 10,\n",
    "    'GAME_SPORTS': 10,\n",
    "    'GAME_WORD': 10,\n",
    "    'GAME_BOARD': 10,\n",
    "    'AUTO_AND_VEHICLES': 24,\n",
    "    'WEATHER': 25,\n",
    "    'ART_AND_DESIGN': 26,\n",
    "    'GAME_CASINO': 10,\n",
    "    'GAME_TRIVIA': 10,\n",
    "    'HOUSE_AND_HOME': 27,\n",
    "    'PARENTING': 28,\n",
    "    'DATING': 29,\n",
    "    'GAME_MUSIC':10,\n",
    "    'EVENTS': 30,\n",
    "    'BEAUTY': 31,\n",
    "    'COMICS': 32,\n",
    "    'LIBRARIES_AND_DEMO': 33\n",
    "    })\n",
    "    \n",
    "\n",
    "df2['Category'].value_counts().plot(kind= 'pie', figsize= (8,10), fontsize=8.5, label='')\n",
    "print('The data has', df2['Category'].nunique(), 'different categories')"
   ]
  },
  {
   "cell_type": "code",
   "execution_count": null,
   "metadata": {},
   "outputs": [],
   "source": []
  },
  {
   "cell_type": "code",
   "execution_count": 13,
   "metadata": {},
   "outputs": [
    {
     "name": "stdout",
     "output_type": "stream",
     "text": [
      "<class 'pandas.core.frame.DataFrame'>\n",
      "Int64Index: 31999 entries, 0 to 31999\n",
      "Data columns (total 11 columns):\n",
      "App Name           31999 non-null object\n",
      "Category           31999 non-null int64\n",
      "Rating             31999 non-null float64\n",
      "Reviews            31999 non-null float64\n",
      "Installs           31999 non-null object\n",
      "Size               31999 non-null object\n",
      "Price              31999 non-null object\n",
      "Content Rating     31999 non-null object\n",
      "Last Updated       31999 non-null object\n",
      "Minimum Version    31999 non-null object\n",
      "Latest Version     31999 non-null object\n",
      "dtypes: float64(2), int64(1), object(8)\n",
      "memory usage: 2.9+ MB\n"
     ]
    },
    {
     "name": "stderr",
     "output_type": "stream",
     "text": [
      "C:\\Users\\oryas\\Anaconda3\\lib\\site-packages\\ipykernel_launcher.py:2: SettingWithCopyWarning: \n",
      "A value is trying to be set on a copy of a slice from a DataFrame.\n",
      "Try using .loc[row_indexer,col_indexer] = value instead\n",
      "\n",
      "See the caveats in the documentation: http://pandas.pydata.org/pandas-docs/stable/user_guide/indexing.html#returning-a-view-versus-a-copy\n",
      "  \n"
     ]
    }
   ],
   "source": [
    "#We have to change the Rating column to a float data type in order to make predictions.\n",
    "df2['Rating']= pd.to_numeric(df2['Rating'])\n",
    "df2.info()"
   ]
  },
  {
   "cell_type": "code",
   "execution_count": 14,
   "metadata": {},
   "outputs": [
    {
     "data": {
      "text/plain": [
       "count    31999.000000\n",
       "mean         4.271201\n",
       "std          0.499626\n",
       "min          1.000000\n",
       "25%          4.090909\n",
       "50%          4.375000\n",
       "75%          4.583333\n",
       "max          5.000000\n",
       "Name: Rating, dtype: float64"
      ]
     },
     "execution_count": 14,
     "metadata": {},
     "output_type": "execute_result"
    }
   ],
   "source": [
    "df['Rating'].describe()"
   ]
  },
  {
   "cell_type": "code",
   "execution_count": 15,
   "metadata": {},
   "outputs": [
    {
     "name": "stderr",
     "output_type": "stream",
     "text": [
      "C:\\Users\\oryas\\Anaconda3\\lib\\site-packages\\ipykernel_launcher.py:3: SettingWithCopyWarning: \n",
      "A value is trying to be set on a copy of a slice from a DataFrame.\n",
      "Try using .loc[row_indexer,col_indexer] = value instead\n",
      "\n",
      "See the caveats in the documentation: http://pandas.pydata.org/pandas-docs/stable/user_guide/indexing.html#returning-a-view-versus-a-copy\n",
      "  This is separate from the ipykernel package so we can avoid doing imports until\n"
     ]
    },
    {
     "data": {
      "text/html": [
       "<div>\n",
       "<style scoped>\n",
       "    .dataframe tbody tr th:only-of-type {\n",
       "        vertical-align: middle;\n",
       "    }\n",
       "\n",
       "    .dataframe tbody tr th {\n",
       "        vertical-align: top;\n",
       "    }\n",
       "\n",
       "    .dataframe thead th {\n",
       "        text-align: right;\n",
       "    }\n",
       "</style>\n",
       "<table border=\"1\" class=\"dataframe\">\n",
       "  <thead>\n",
       "    <tr style=\"text-align: right;\">\n",
       "      <th></th>\n",
       "      <th>App Name</th>\n",
       "      <th>Category</th>\n",
       "      <th>Rating</th>\n",
       "      <th>Reviews</th>\n",
       "      <th>Installs</th>\n",
       "      <th>Size</th>\n",
       "      <th>Price</th>\n",
       "      <th>Content Rating</th>\n",
       "      <th>Last Updated</th>\n",
       "      <th>Minimum Version</th>\n",
       "      <th>Latest Version</th>\n",
       "    </tr>\n",
       "  </thead>\n",
       "  <tbody>\n",
       "    <tr>\n",
       "      <td>0</td>\n",
       "      <td>DoorDash - Food Delivery</td>\n",
       "      <td>20</td>\n",
       "      <td>5.0</td>\n",
       "      <td>305034.0</td>\n",
       "      <td>5,000,000+</td>\n",
       "      <td>Varies with device</td>\n",
       "      <td>0</td>\n",
       "      <td>Everyone</td>\n",
       "      <td>29-Mar-19</td>\n",
       "      <td>Varies with device</td>\n",
       "      <td>Varies with device</td>\n",
       "    </tr>\n",
       "    <tr>\n",
       "      <td>1</td>\n",
       "      <td>TripAdvisor Hotels Flights Restaurants Attract...</td>\n",
       "      <td>14</td>\n",
       "      <td>4.0</td>\n",
       "      <td>1207922.0</td>\n",
       "      <td>100,000,000+</td>\n",
       "      <td>Varies with device</td>\n",
       "      <td>0</td>\n",
       "      <td>Everyone</td>\n",
       "      <td>29-Mar-19</td>\n",
       "      <td>Varies with device</td>\n",
       "      <td>Varies with device</td>\n",
       "    </tr>\n",
       "    <tr>\n",
       "      <td>2</td>\n",
       "      <td>Peapod</td>\n",
       "      <td>16</td>\n",
       "      <td>4.0</td>\n",
       "      <td>1967.0</td>\n",
       "      <td>100,000+</td>\n",
       "      <td>1.4M</td>\n",
       "      <td>0</td>\n",
       "      <td>Everyone</td>\n",
       "      <td>20-Sep-18</td>\n",
       "      <td>5.0 and up</td>\n",
       "      <td>2.2.0</td>\n",
       "    </tr>\n",
       "    <tr>\n",
       "      <td>3</td>\n",
       "      <td>foodpanda - Local Food Delivery</td>\n",
       "      <td>20</td>\n",
       "      <td>4.0</td>\n",
       "      <td>389154.0</td>\n",
       "      <td>10,000,000+</td>\n",
       "      <td>16M</td>\n",
       "      <td>0</td>\n",
       "      <td>Everyone</td>\n",
       "      <td>22-Mar-19</td>\n",
       "      <td>4.2 and up</td>\n",
       "      <td>4.18.2</td>\n",
       "    </tr>\n",
       "    <tr>\n",
       "      <td>4</td>\n",
       "      <td>My CookBook Pro (Ad Free)</td>\n",
       "      <td>20</td>\n",
       "      <td>5.0</td>\n",
       "      <td>2291.0</td>\n",
       "      <td>10,000+</td>\n",
       "      <td>Varies with device</td>\n",
       "      <td>$5.99</td>\n",
       "      <td>Everyone</td>\n",
       "      <td>1-Apr-19</td>\n",
       "      <td>Varies with device</td>\n",
       "      <td>Varies with device</td>\n",
       "    </tr>\n",
       "    <tr>\n",
       "      <td>...</td>\n",
       "      <td>...</td>\n",
       "      <td>...</td>\n",
       "      <td>...</td>\n",
       "      <td>...</td>\n",
       "      <td>...</td>\n",
       "      <td>...</td>\n",
       "      <td>...</td>\n",
       "      <td>...</td>\n",
       "      <td>...</td>\n",
       "      <td>...</td>\n",
       "      <td>...</td>\n",
       "    </tr>\n",
       "    <tr>\n",
       "      <td>31995</td>\n",
       "      <td>KG Newsroom</td>\n",
       "      <td>12</td>\n",
       "      <td>4.0</td>\n",
       "      <td>8.0</td>\n",
       "      <td>50+</td>\n",
       "      <td>9.6M</td>\n",
       "      <td>0</td>\n",
       "      <td>Everyone</td>\n",
       "      <td>28-Mar-19</td>\n",
       "      <td>4.1 and up</td>\n",
       "      <td>1.1.15</td>\n",
       "    </tr>\n",
       "    <tr>\n",
       "      <td>31996</td>\n",
       "      <td>Dedi App 19</td>\n",
       "      <td>10</td>\n",
       "      <td>4.0</td>\n",
       "      <td>71.0</td>\n",
       "      <td>10,000+</td>\n",
       "      <td>6.5M</td>\n",
       "      <td>0</td>\n",
       "      <td>Everyone</td>\n",
       "      <td>22-Jan-19</td>\n",
       "      <td>4.4 and up</td>\n",
       "      <td>1.0.2274</td>\n",
       "    </tr>\n",
       "    <tr>\n",
       "      <td>31997</td>\n",
       "      <td>Dedi App 17</td>\n",
       "      <td>10</td>\n",
       "      <td>4.0</td>\n",
       "      <td>924.0</td>\n",
       "      <td>100,000+</td>\n",
       "      <td>7.9M</td>\n",
       "      <td>0</td>\n",
       "      <td>Everyone</td>\n",
       "      <td>17-Feb-17</td>\n",
       "      <td>4.0.3 and up</td>\n",
       "      <td>1.1.2043</td>\n",
       "    </tr>\n",
       "    <tr>\n",
       "      <td>31998</td>\n",
       "      <td>Right Angle Triangle Solver</td>\n",
       "      <td>2</td>\n",
       "      <td>4.0</td>\n",
       "      <td>1796.0</td>\n",
       "      <td>100,000+</td>\n",
       "      <td>6.8M</td>\n",
       "      <td>0</td>\n",
       "      <td>Everyone</td>\n",
       "      <td>15-Dec-18</td>\n",
       "      <td>4.1 and up</td>\n",
       "      <td>2.0.5</td>\n",
       "    </tr>\n",
       "    <tr>\n",
       "      <td>31999</td>\n",
       "      <td>Gummy Pop: Chain Reaction Game</td>\n",
       "      <td>10</td>\n",
       "      <td>4.0</td>\n",
       "      <td>3372.0</td>\n",
       "      <td>100,000+</td>\n",
       "      <td>35M</td>\n",
       "      <td>0</td>\n",
       "      <td>Everyone</td>\n",
       "      <td>27-Sep-16</td>\n",
       "      <td>4.0 and up</td>\n",
       "      <td>1.2.10</td>\n",
       "    </tr>\n",
       "  </tbody>\n",
       "</table>\n",
       "<p>31999 rows × 11 columns</p>\n",
       "</div>"
      ],
      "text/plain": [
       "                                                App Name  Category  Rating  \\\n",
       "0                               DoorDash - Food Delivery        20     5.0   \n",
       "1      TripAdvisor Hotels Flights Restaurants Attract...        14     4.0   \n",
       "2                                                 Peapod        16     4.0   \n",
       "3                        foodpanda - Local Food Delivery        20     4.0   \n",
       "4                              My CookBook Pro (Ad Free)        20     5.0   \n",
       "...                                                  ...       ...     ...   \n",
       "31995                                        KG Newsroom        12     4.0   \n",
       "31996                                        Dedi App 19        10     4.0   \n",
       "31997                                        Dedi App 17        10     4.0   \n",
       "31998                        Right Angle Triangle Solver         2     4.0   \n",
       "31999                     Gummy Pop: Chain Reaction Game        10     4.0   \n",
       "\n",
       "         Reviews      Installs                Size   Price Content Rating  \\\n",
       "0       305034.0    5,000,000+  Varies with device       0       Everyone   \n",
       "1      1207922.0  100,000,000+  Varies with device       0       Everyone   \n",
       "2         1967.0      100,000+                1.4M       0       Everyone   \n",
       "3       389154.0   10,000,000+                 16M       0       Everyone   \n",
       "4         2291.0       10,000+  Varies with device  $5.99        Everyone   \n",
       "...          ...           ...                 ...     ...            ...   \n",
       "31995        8.0           50+                9.6M       0       Everyone   \n",
       "31996       71.0       10,000+                6.5M       0       Everyone   \n",
       "31997      924.0      100,000+                7.9M       0       Everyone   \n",
       "31998     1796.0      100,000+                6.8M       0       Everyone   \n",
       "31999     3372.0      100,000+                 35M       0       Everyone   \n",
       "\n",
       "      Last Updated     Minimum Version      Latest Version  \n",
       "0        29-Mar-19  Varies with device  Varies with device  \n",
       "1        29-Mar-19  Varies with device  Varies with device  \n",
       "2        20-Sep-18          5.0 and up               2.2.0  \n",
       "3        22-Mar-19          4.2 and up              4.18.2  \n",
       "4         1-Apr-19  Varies with device  Varies with device  \n",
       "...            ...                 ...                 ...  \n",
       "31995    28-Mar-19          4.1 and up              1.1.15  \n",
       "31996    22-Jan-19          4.4 and up            1.0.2274  \n",
       "31997    17-Feb-17        4.0.3 and up            1.1.2043  \n",
       "31998    15-Dec-18          4.1 and up               2.0.5  \n",
       "31999    27-Sep-16          4.0 and up              1.2.10  \n",
       "\n",
       "[31999 rows x 11 columns]"
      ]
     },
     "execution_count": 15,
     "metadata": {},
     "output_type": "execute_result"
    }
   ],
   "source": [
    "#In order to clasiffy the apps' rate we need to have fewer Rating values\n",
    "df3= df2\n",
    "df3['Rating']= round(df3['Rating'])\n",
    "df3"
   ]
  },
  {
   "cell_type": "code",
   "execution_count": 16,
   "metadata": {},
   "outputs": [
    {
     "data": {
      "text/plain": [
       "count    31999.000000\n",
       "mean         4.265821\n",
       "std          0.630965\n",
       "min          1.000000\n",
       "25%          4.000000\n",
       "50%          4.000000\n",
       "75%          5.000000\n",
       "max          5.000000\n",
       "Name: Rating, dtype: float64"
      ]
     },
     "execution_count": 16,
     "metadata": {},
     "output_type": "execute_result"
    }
   ],
   "source": [
    "#We can see there isn't a big difference from before and after we used 'round'\n",
    "df3['Rating'].describe()"
   ]
  },
  {
   "cell_type": "code",
   "execution_count": 17,
   "metadata": {},
   "outputs": [
    {
     "data": {
      "text/plain": [
       "4.0    18535\n",
       "5.0    11216\n",
       "3.0     1861\n",
       "2.0      312\n",
       "1.0       75\n",
       "Name: Rating, dtype: int64"
      ]
     },
     "execution_count": 17,
     "metadata": {},
     "output_type": "execute_result"
    }
   ],
   "source": [
    "df3['Rating'].value_counts()"
   ]
  },
  {
   "cell_type": "code",
   "execution_count": 18,
   "metadata": {},
   "outputs": [
    {
     "data": {
      "text/plain": [
       "Text(0.5, 1.0, 'Rating ratio')"
      ]
     },
     "execution_count": 18,
     "metadata": {},
     "output_type": "execute_result"
    },
    {
     "data": {
      "image/png": "[encoded data removed]",
      "text/plain": [
       "<Figure size 432x288 with 1 Axes>"
      ]
     },
     "metadata": {
      "needs_background": "light"
     },
     "output_type": "display_data"
    }
   ],
   "source": [
    "sns.countplot(x=\"Rating\", data=df3, palette='plasma')\n",
    "plt.title(\"Rating ratio\")"
   ]
  },
  {
   "cell_type": "code",
   "execution_count": null,
   "metadata": {},
   "outputs": [],
   "source": []
  },
  {
   "cell_type": "code",
   "execution_count": 19,
   "metadata": {},
   "outputs": [
    {
     "data": {
      "text/plain": [
       "0          29951\n",
       "$0.99        354\n",
       "$1.99        313\n",
       "$2.99        303\n",
       "$4.99        233\n",
       "           ...  \n",
       "$3.29          1\n",
       "$12.00         1\n",
       "$6.71          1\n",
       "$6.30          1\n",
       "$3.22          1\n",
       "Name: Price, Length: 103, dtype: int64"
      ]
     },
     "execution_count": 19,
     "metadata": {},
     "output_type": "execute_result"
    }
   ],
   "source": [
    "df3['Price'].value_counts()"
   ]
  },
  {
   "cell_type": "code",
   "execution_count": 20,
   "metadata": {},
   "outputs": [
    {
     "name": "stderr",
     "output_type": "stream",
     "text": [
      "C:\\Users\\oryas\\Anaconda3\\lib\\site-packages\\ipykernel_launcher.py:3: SettingWithCopyWarning: \n",
      "A value is trying to be set on a copy of a slice from a DataFrame.\n",
      "Try using .loc[row_indexer,col_indexer] = value instead\n",
      "\n",
      "See the caveats in the documentation: http://pandas.pydata.org/pandas-docs/stable/user_guide/indexing.html#returning-a-view-versus-a-copy\n",
      "  This is separate from the ipykernel package so we can avoid doing imports until\n",
      "C:\\Users\\oryas\\Anaconda3\\lib\\site-packages\\pandas\\core\\generic.py:6287: SettingWithCopyWarning: \n",
      "A value is trying to be set on a copy of a slice from a DataFrame\n",
      "\n",
      "See the caveats in the documentation: http://pandas.pydata.org/pandas-docs/stable/user_guide/indexing.html#returning-a-view-versus-a-copy\n",
      "  self._update_inplace(new_data)\n"
     ]
    }
   ],
   "source": [
    "#We will change the Price colum- 0= no payment needed, 1= payment is needed\n",
    "df3['Price'] = df3['Price'].map({     \n",
    "        '0': 0\n",
    "})\n",
    "\n",
    "df3['Price'].fillna(value=1, inplace=True)"
   ]
  },
  {
   "cell_type": "code",
   "execution_count": null,
   "metadata": {},
   "outputs": [],
   "source": []
  },
  {
   "cell_type": "code",
   "execution_count": 21,
   "metadata": {},
   "outputs": [
    {
     "data": {
      "text/plain": [
       "100,000+          6745\n",
       "1,000,000+        5195\n",
       "10,000+           4590\n",
       "500,000+          2863\n",
       "50,000+           2642\n",
       "1,000+            2342\n",
       "10,000,000+       1941\n",
       "5,000,000+        1528\n",
       "5,000+            1476\n",
       "100+               961\n",
       "500+               709\n",
       "50,000,000+        328\n",
       "100,000,000+       256\n",
       "10+                158\n",
       "50+                153\n",
       "500,000,000+        33\n",
       "5+                  28\n",
       "1,000,000,000+      24\n",
       "1+                  22\n",
       "5,000,000,000+       3\n",
       "0+                   2\n",
       "Name: Installs, dtype: int64"
      ]
     },
     "execution_count": 21,
     "metadata": {},
     "output_type": "execute_result"
    }
   ],
   "source": [
    "#We want to have the Installs numbers as a float data type so we can make predictions\n",
    "df3['Installs'].value_counts()"
   ]
  },
  {
   "cell_type": "code",
   "execution_count": 22,
   "metadata": {},
   "outputs": [
    {
     "name": "stderr",
     "output_type": "stream",
     "text": [
      "C:\\Users\\oryas\\Anaconda3\\lib\\site-packages\\pandas\\core\\generic.py:5208: SettingWithCopyWarning: \n",
      "A value is trying to be set on a copy of a slice from a DataFrame.\n",
      "Try using .loc[row_indexer,col_indexer] = value instead\n",
      "\n",
      "See the caveats in the documentation: http://pandas.pydata.org/pandas-docs/stable/user_guide/indexing.html#returning-a-view-versus-a-copy\n",
      "  self[name] = value\n"
     ]
    },
    {
     "data": {
      "text/plain": [
       "100,000          6745\n",
       "1,000,000        5195\n",
       "10,000           4590\n",
       "500,000          2863\n",
       "50,000           2642\n",
       "1,000            2342\n",
       "10,000,000       1941\n",
       "5,000,000        1528\n",
       "5,000            1476\n",
       "100               961\n",
       "500               709\n",
       "50,000,000        328\n",
       "100,000,000       256\n",
       "10                158\n",
       "50                153\n",
       "500,000,000        33\n",
       "5                  28\n",
       "1,000,000,000      24\n",
       "1                  22\n",
       "5,000,000,000       3\n",
       "0                   2\n",
       "Name: Installs, dtype: int64"
      ]
     },
     "execution_count": 22,
     "metadata": {},
     "output_type": "execute_result"
    }
   ],
   "source": [
    "#Now each value represents the minimum amount of Installs for each app\n",
    "df3.Installs= df3.Installs.str.replace(\"+\", \"\")\n",
    "    \n",
    "df3['Installs'].value_counts()"
   ]
  },
  {
   "cell_type": "code",
   "execution_count": 23,
   "metadata": {},
   "outputs": [
    {
     "name": "stderr",
     "output_type": "stream",
     "text": [
      "C:\\Users\\oryas\\Anaconda3\\lib\\site-packages\\ipykernel_launcher.py:3: SettingWithCopyWarning: \n",
      "A value is trying to be set on a copy of a slice from a DataFrame.\n",
      "Try using .loc[row_indexer,col_indexer] = value instead\n",
      "\n",
      "See the caveats in the documentation: http://pandas.pydata.org/pandas-docs/stable/user_guide/indexing.html#returning-a-view-versus-a-copy\n",
      "  This is separate from the ipykernel package so we can avoid doing imports until\n"
     ]
    },
    {
     "data": {
      "text/plain": [
       "count    3.199900e+04\n",
       "mean     4.126353e+06\n",
       "std      5.871817e+07\n",
       "min      0.000000e+00\n",
       "25%      1.000000e+04\n",
       "50%      1.000000e+05\n",
       "75%      1.000000e+06\n",
       "max      5.000000e+09\n",
       "Name: Installs, dtype: float64"
      ]
     },
     "execution_count": 23,
     "metadata": {},
     "output_type": "execute_result"
    }
   ],
   "source": [
    "df3.Installs= df3.Installs.str.replace(\",\", \"\")\n",
    "\n",
    "df3['Installs']= pd.to_numeric(df3['Installs'])\n",
    "\n",
    "df3['Installs'].describe()"
   ]
  },
  {
   "cell_type": "code",
   "execution_count": null,
   "metadata": {},
   "outputs": [],
   "source": []
  },
  {
   "cell_type": "code",
   "execution_count": 24,
   "metadata": {},
   "outputs": [
    {
     "name": "stderr",
     "output_type": "stream",
     "text": [
      "C:\\Users\\oryas\\Anaconda3\\lib\\site-packages\\ipykernel_launcher.py:4: SettingWithCopyWarning: \n",
      "A value is trying to be set on a copy of a slice from a DataFrame.\n",
      "Try using .loc[row_indexer,col_indexer] = value instead\n",
      "\n",
      "See the caveats in the documentation: http://pandas.pydata.org/pandas-docs/stable/user_guide/indexing.html#returning-a-view-versus-a-copy\n",
      "  after removing the cwd from sys.path.\n"
     ]
    }
   ],
   "source": [
    "#Creating a new feature- I'm assuming the length of the apps' name might affect the rating for some people\n",
    "# - even unconsciously, since we have no way to not see it when we want to download / use an app\n",
    " \n",
    "df3['name_len']= df3['App Name'].str.len()"
   ]
  },
  {
   "cell_type": "code",
   "execution_count": 25,
   "metadata": {},
   "outputs": [
    {
     "data": {
      "text/html": [
       "<div>\n",
       "<style scoped>\n",
       "    .dataframe tbody tr th:only-of-type {\n",
       "        vertical-align: middle;\n",
       "    }\n",
       "\n",
       "    .dataframe tbody tr th {\n",
       "        vertical-align: top;\n",
       "    }\n",
       "\n",
       "    .dataframe thead th {\n",
       "        text-align: right;\n",
       "    }\n",
       "</style>\n",
       "<table border=\"1\" class=\"dataframe\">\n",
       "  <thead>\n",
       "    <tr style=\"text-align: right;\">\n",
       "      <th></th>\n",
       "      <th>App Name</th>\n",
       "      <th>Category</th>\n",
       "      <th>Rating</th>\n",
       "      <th>Reviews</th>\n",
       "      <th>Installs</th>\n",
       "      <th>Size</th>\n",
       "      <th>Price</th>\n",
       "      <th>Content Rating</th>\n",
       "      <th>Last Updated</th>\n",
       "      <th>Minimum Version</th>\n",
       "      <th>Latest Version</th>\n",
       "      <th>name_len</th>\n",
       "    </tr>\n",
       "  </thead>\n",
       "  <tbody>\n",
       "    <tr>\n",
       "      <td>0</td>\n",
       "      <td>DoorDash - Food Delivery</td>\n",
       "      <td>20</td>\n",
       "      <td>5.0</td>\n",
       "      <td>305034.0</td>\n",
       "      <td>5000000</td>\n",
       "      <td>Varies with device</td>\n",
       "      <td>0.0</td>\n",
       "      <td>Everyone</td>\n",
       "      <td>29-Mar-19</td>\n",
       "      <td>Varies with device</td>\n",
       "      <td>Varies with device</td>\n",
       "      <td>24</td>\n",
       "    </tr>\n",
       "    <tr>\n",
       "      <td>1</td>\n",
       "      <td>TripAdvisor Hotels Flights Restaurants Attract...</td>\n",
       "      <td>14</td>\n",
       "      <td>4.0</td>\n",
       "      <td>1207922.0</td>\n",
       "      <td>100000000</td>\n",
       "      <td>Varies with device</td>\n",
       "      <td>0.0</td>\n",
       "      <td>Everyone</td>\n",
       "      <td>29-Mar-19</td>\n",
       "      <td>Varies with device</td>\n",
       "      <td>Varies with device</td>\n",
       "      <td>50</td>\n",
       "    </tr>\n",
       "    <tr>\n",
       "      <td>2</td>\n",
       "      <td>Peapod</td>\n",
       "      <td>16</td>\n",
       "      <td>4.0</td>\n",
       "      <td>1967.0</td>\n",
       "      <td>100000</td>\n",
       "      <td>1.4M</td>\n",
       "      <td>0.0</td>\n",
       "      <td>Everyone</td>\n",
       "      <td>20-Sep-18</td>\n",
       "      <td>5.0 and up</td>\n",
       "      <td>2.2.0</td>\n",
       "      <td>6</td>\n",
       "    </tr>\n",
       "    <tr>\n",
       "      <td>3</td>\n",
       "      <td>foodpanda - Local Food Delivery</td>\n",
       "      <td>20</td>\n",
       "      <td>4.0</td>\n",
       "      <td>389154.0</td>\n",
       "      <td>10000000</td>\n",
       "      <td>16M</td>\n",
       "      <td>0.0</td>\n",
       "      <td>Everyone</td>\n",
       "      <td>22-Mar-19</td>\n",
       "      <td>4.2 and up</td>\n",
       "      <td>4.18.2</td>\n",
       "      <td>31</td>\n",
       "    </tr>\n",
       "    <tr>\n",
       "      <td>4</td>\n",
       "      <td>My CookBook Pro (Ad Free)</td>\n",
       "      <td>20</td>\n",
       "      <td>5.0</td>\n",
       "      <td>2291.0</td>\n",
       "      <td>10000</td>\n",
       "      <td>Varies with device</td>\n",
       "      <td>1.0</td>\n",
       "      <td>Everyone</td>\n",
       "      <td>1-Apr-19</td>\n",
       "      <td>Varies with device</td>\n",
       "      <td>Varies with device</td>\n",
       "      <td>25</td>\n",
       "    </tr>\n",
       "    <tr>\n",
       "      <td>...</td>\n",
       "      <td>...</td>\n",
       "      <td>...</td>\n",
       "      <td>...</td>\n",
       "      <td>...</td>\n",
       "      <td>...</td>\n",
       "      <td>...</td>\n",
       "      <td>...</td>\n",
       "      <td>...</td>\n",
       "      <td>...</td>\n",
       "      <td>...</td>\n",
       "      <td>...</td>\n",
       "      <td>...</td>\n",
       "    </tr>\n",
       "    <tr>\n",
       "      <td>31995</td>\n",
       "      <td>KG Newsroom</td>\n",
       "      <td>12</td>\n",
       "      <td>4.0</td>\n",
       "      <td>8.0</td>\n",
       "      <td>50</td>\n",
       "      <td>9.6M</td>\n",
       "      <td>0.0</td>\n",
       "      <td>Everyone</td>\n",
       "      <td>28-Mar-19</td>\n",
       "      <td>4.1 and up</td>\n",
       "      <td>1.1.15</td>\n",
       "      <td>11</td>\n",
       "    </tr>\n",
       "    <tr>\n",
       "      <td>31996</td>\n",
       "      <td>Dedi App 19</td>\n",
       "      <td>10</td>\n",
       "      <td>4.0</td>\n",
       "      <td>71.0</td>\n",
       "      <td>10000</td>\n",
       "      <td>6.5M</td>\n",
       "      <td>0.0</td>\n",
       "      <td>Everyone</td>\n",
       "      <td>22-Jan-19</td>\n",
       "      <td>4.4 and up</td>\n",
       "      <td>1.0.2274</td>\n",
       "      <td>11</td>\n",
       "    </tr>\n",
       "    <tr>\n",
       "      <td>31997</td>\n",
       "      <td>Dedi App 17</td>\n",
       "      <td>10</td>\n",
       "      <td>4.0</td>\n",
       "      <td>924.0</td>\n",
       "      <td>100000</td>\n",
       "      <td>7.9M</td>\n",
       "      <td>0.0</td>\n",
       "      <td>Everyone</td>\n",
       "      <td>17-Feb-17</td>\n",
       "      <td>4.0.3 and up</td>\n",
       "      <td>1.1.2043</td>\n",
       "      <td>11</td>\n",
       "    </tr>\n",
       "    <tr>\n",
       "      <td>31998</td>\n",
       "      <td>Right Angle Triangle Solver</td>\n",
       "      <td>2</td>\n",
       "      <td>4.0</td>\n",
       "      <td>1796.0</td>\n",
       "      <td>100000</td>\n",
       "      <td>6.8M</td>\n",
       "      <td>0.0</td>\n",
       "      <td>Everyone</td>\n",
       "      <td>15-Dec-18</td>\n",
       "      <td>4.1 and up</td>\n",
       "      <td>2.0.5</td>\n",
       "      <td>27</td>\n",
       "    </tr>\n",
       "    <tr>\n",
       "      <td>31999</td>\n",
       "      <td>Gummy Pop: Chain Reaction Game</td>\n",
       "      <td>10</td>\n",
       "      <td>4.0</td>\n",
       "      <td>3372.0</td>\n",
       "      <td>100000</td>\n",
       "      <td>35M</td>\n",
       "      <td>0.0</td>\n",
       "      <td>Everyone</td>\n",
       "      <td>27-Sep-16</td>\n",
       "      <td>4.0 and up</td>\n",
       "      <td>1.2.10</td>\n",
       "      <td>30</td>\n",
       "    </tr>\n",
       "  </tbody>\n",
       "</table>\n",
       "<p>31999 rows × 12 columns</p>\n",
       "</div>"
      ],
      "text/plain": [
       "                                                App Name  Category  Rating  \\\n",
       "0                               DoorDash - Food Delivery        20     5.0   \n",
       "1      TripAdvisor Hotels Flights Restaurants Attract...        14     4.0   \n",
       "2                                                 Peapod        16     4.0   \n",
       "3                        foodpanda - Local Food Delivery        20     4.0   \n",
       "4                              My CookBook Pro (Ad Free)        20     5.0   \n",
       "...                                                  ...       ...     ...   \n",
       "31995                                        KG Newsroom        12     4.0   \n",
       "31996                                        Dedi App 19        10     4.0   \n",
       "31997                                        Dedi App 17        10     4.0   \n",
       "31998                        Right Angle Triangle Solver         2     4.0   \n",
       "31999                     Gummy Pop: Chain Reaction Game        10     4.0   \n",
       "\n",
       "         Reviews   Installs                Size  Price Content Rating  \\\n",
       "0       305034.0    5000000  Varies with device    0.0       Everyone   \n",
       "1      1207922.0  100000000  Varies with device    0.0       Everyone   \n",
       "2         1967.0     100000                1.4M    0.0       Everyone   \n",
       "3       389154.0   10000000                 16M    0.0       Everyone   \n",
       "4         2291.0      10000  Varies with device    1.0       Everyone   \n",
       "...          ...        ...                 ...    ...            ...   \n",
       "31995        8.0         50                9.6M    0.0       Everyone   \n",
       "31996       71.0      10000                6.5M    0.0       Everyone   \n",
       "31997      924.0     100000                7.9M    0.0       Everyone   \n",
       "31998     1796.0     100000                6.8M    0.0       Everyone   \n",
       "31999     3372.0     100000                 35M    0.0       Everyone   \n",
       "\n",
       "      Last Updated     Minimum Version      Latest Version  name_len  \n",
       "0        29-Mar-19  Varies with device  Varies with device        24  \n",
       "1        29-Mar-19  Varies with device  Varies with device        50  \n",
       "2        20-Sep-18          5.0 and up               2.2.0         6  \n",
       "3        22-Mar-19          4.2 and up              4.18.2        31  \n",
       "4         1-Apr-19  Varies with device  Varies with device        25  \n",
       "...            ...                 ...                 ...       ...  \n",
       "31995    28-Mar-19          4.1 and up              1.1.15        11  \n",
       "31996    22-Jan-19          4.4 and up            1.0.2274        11  \n",
       "31997    17-Feb-17        4.0.3 and up            1.1.2043        11  \n",
       "31998    15-Dec-18          4.1 and up               2.0.5        27  \n",
       "31999    27-Sep-16          4.0 and up              1.2.10        30  \n",
       "\n",
       "[31999 rows x 12 columns]"
      ]
     },
     "execution_count": 25,
     "metadata": {},
     "output_type": "execute_result"
    }
   ],
   "source": [
    "df3"
   ]
  },
  {
   "cell_type": "code",
   "execution_count": null,
   "metadata": {},
   "outputs": [],
   "source": []
  },
  {
   "cell_type": "code",
   "execution_count": 26,
   "metadata": {},
   "outputs": [],
   "source": [
    "#I'm assuming that 'App Name', 'Size', 'Content Rating', 'Last Updated', 'Minimum Version' and 'Latest Version' \n",
    "# are not going to influence the Rating of the apps, so I won't use them from now on \n",
    "df4= df3.drop(columns=['App Name', 'Size', 'Content Rating', 'Last Updated', 'Minimum Version', 'Latest Version' ])"
   ]
  },
  {
   "cell_type": "code",
   "execution_count": 27,
   "metadata": {},
   "outputs": [],
   "source": [
    "#Because there isn't a way of knowing how many Installs and how many Reviews a new app will have before launching it, \n",
    "# we have to drop this columns too\n",
    "df5= df4.drop(columns=['Reviews','Installs'])"
   ]
  },
  {
   "cell_type": "code",
   "execution_count": 28,
   "metadata": {},
   "outputs": [
    {
     "data": {
      "text/html": [
       "<div>\n",
       "<style scoped>\n",
       "    .dataframe tbody tr th:only-of-type {\n",
       "        vertical-align: middle;\n",
       "    }\n",
       "\n",
       "    .dataframe tbody tr th {\n",
       "        vertical-align: top;\n",
       "    }\n",
       "\n",
       "    .dataframe thead th {\n",
       "        text-align: right;\n",
       "    }\n",
       "</style>\n",
       "<table border=\"1\" class=\"dataframe\">\n",
       "  <thead>\n",
       "    <tr style=\"text-align: right;\">\n",
       "      <th></th>\n",
       "      <th>Category</th>\n",
       "      <th>Rating</th>\n",
       "      <th>Price</th>\n",
       "      <th>name_len</th>\n",
       "    </tr>\n",
       "  </thead>\n",
       "  <tbody>\n",
       "    <tr>\n",
       "      <td>0</td>\n",
       "      <td>20</td>\n",
       "      <td>5.0</td>\n",
       "      <td>0.0</td>\n",
       "      <td>24</td>\n",
       "    </tr>\n",
       "    <tr>\n",
       "      <td>1</td>\n",
       "      <td>14</td>\n",
       "      <td>4.0</td>\n",
       "      <td>0.0</td>\n",
       "      <td>50</td>\n",
       "    </tr>\n",
       "    <tr>\n",
       "      <td>2</td>\n",
       "      <td>16</td>\n",
       "      <td>4.0</td>\n",
       "      <td>0.0</td>\n",
       "      <td>6</td>\n",
       "    </tr>\n",
       "    <tr>\n",
       "      <td>3</td>\n",
       "      <td>20</td>\n",
       "      <td>4.0</td>\n",
       "      <td>0.0</td>\n",
       "      <td>31</td>\n",
       "    </tr>\n",
       "    <tr>\n",
       "      <td>4</td>\n",
       "      <td>20</td>\n",
       "      <td>5.0</td>\n",
       "      <td>1.0</td>\n",
       "      <td>25</td>\n",
       "    </tr>\n",
       "    <tr>\n",
       "      <td>...</td>\n",
       "      <td>...</td>\n",
       "      <td>...</td>\n",
       "      <td>...</td>\n",
       "      <td>...</td>\n",
       "    </tr>\n",
       "    <tr>\n",
       "      <td>31995</td>\n",
       "      <td>12</td>\n",
       "      <td>4.0</td>\n",
       "      <td>0.0</td>\n",
       "      <td>11</td>\n",
       "    </tr>\n",
       "    <tr>\n",
       "      <td>31996</td>\n",
       "      <td>10</td>\n",
       "      <td>4.0</td>\n",
       "      <td>0.0</td>\n",
       "      <td>11</td>\n",
       "    </tr>\n",
       "    <tr>\n",
       "      <td>31997</td>\n",
       "      <td>10</td>\n",
       "      <td>4.0</td>\n",
       "      <td>0.0</td>\n",
       "      <td>11</td>\n",
       "    </tr>\n",
       "    <tr>\n",
       "      <td>31998</td>\n",
       "      <td>2</td>\n",
       "      <td>4.0</td>\n",
       "      <td>0.0</td>\n",
       "      <td>27</td>\n",
       "    </tr>\n",
       "    <tr>\n",
       "      <td>31999</td>\n",
       "      <td>10</td>\n",
       "      <td>4.0</td>\n",
       "      <td>0.0</td>\n",
       "      <td>30</td>\n",
       "    </tr>\n",
       "  </tbody>\n",
       "</table>\n",
       "<p>31999 rows × 4 columns</p>\n",
       "</div>"
      ],
      "text/plain": [
       "       Category  Rating  Price  name_len\n",
       "0            20     5.0    0.0        24\n",
       "1            14     4.0    0.0        50\n",
       "2            16     4.0    0.0         6\n",
       "3            20     4.0    0.0        31\n",
       "4            20     5.0    1.0        25\n",
       "...         ...     ...    ...       ...\n",
       "31995        12     4.0    0.0        11\n",
       "31996        10     4.0    0.0        11\n",
       "31997        10     4.0    0.0        11\n",
       "31998         2     4.0    0.0        27\n",
       "31999        10     4.0    0.0        30\n",
       "\n",
       "[31999 rows x 4 columns]"
      ]
     },
     "execution_count": 28,
     "metadata": {},
     "output_type": "execute_result"
    }
   ],
   "source": [
    "#The final data\n",
    "df5"
   ]
  },
  {
   "cell_type": "code",
   "execution_count": 29,
   "metadata": {},
   "outputs": [
    {
     "data": {
      "text/html": [
       "<div>\n",
       "<style scoped>\n",
       "    .dataframe tbody tr th:only-of-type {\n",
       "        vertical-align: middle;\n",
       "    }\n",
       "\n",
       "    .dataframe tbody tr th {\n",
       "        vertical-align: top;\n",
       "    }\n",
       "\n",
       "    .dataframe thead th {\n",
       "        text-align: right;\n",
       "    }\n",
       "</style>\n",
       "<table border=\"1\" class=\"dataframe\">\n",
       "  <thead>\n",
       "    <tr style=\"text-align: right;\">\n",
       "      <th></th>\n",
       "      <th>Category</th>\n",
       "      <th>Rating</th>\n",
       "      <th>Price</th>\n",
       "      <th>name_len</th>\n",
       "    </tr>\n",
       "  </thead>\n",
       "  <tbody>\n",
       "    <tr>\n",
       "      <td>count</td>\n",
       "      <td>31999.000000</td>\n",
       "      <td>31999.000000</td>\n",
       "      <td>31999.000000</td>\n",
       "      <td>31999.000000</td>\n",
       "    </tr>\n",
       "    <tr>\n",
       "      <td>mean</td>\n",
       "      <td>9.205444</td>\n",
       "      <td>4.265821</td>\n",
       "      <td>0.064002</td>\n",
       "      <td>23.278509</td>\n",
       "    </tr>\n",
       "    <tr>\n",
       "      <td>std</td>\n",
       "      <td>6.651245</td>\n",
       "      <td>0.630965</td>\n",
       "      <td>0.244760</td>\n",
       "      <td>12.015545</td>\n",
       "    </tr>\n",
       "    <tr>\n",
       "      <td>min</td>\n",
       "      <td>1.000000</td>\n",
       "      <td>1.000000</td>\n",
       "      <td>0.000000</td>\n",
       "      <td>1.000000</td>\n",
       "    </tr>\n",
       "    <tr>\n",
       "      <td>25%</td>\n",
       "      <td>4.000000</td>\n",
       "      <td>4.000000</td>\n",
       "      <td>0.000000</td>\n",
       "      <td>14.000000</td>\n",
       "    </tr>\n",
       "    <tr>\n",
       "      <td>50%</td>\n",
       "      <td>10.000000</td>\n",
       "      <td>4.000000</td>\n",
       "      <td>0.000000</td>\n",
       "      <td>22.000000</td>\n",
       "    </tr>\n",
       "    <tr>\n",
       "      <td>75%</td>\n",
       "      <td>12.000000</td>\n",
       "      <td>5.000000</td>\n",
       "      <td>0.000000</td>\n",
       "      <td>30.000000</td>\n",
       "    </tr>\n",
       "    <tr>\n",
       "      <td>max</td>\n",
       "      <td>33.000000</td>\n",
       "      <td>5.000000</td>\n",
       "      <td>1.000000</td>\n",
       "      <td>50.000000</td>\n",
       "    </tr>\n",
       "  </tbody>\n",
       "</table>\n",
       "</div>"
      ],
      "text/plain": [
       "           Category        Rating         Price      name_len\n",
       "count  31999.000000  31999.000000  31999.000000  31999.000000\n",
       "mean       9.205444      4.265821      0.064002     23.278509\n",
       "std        6.651245      0.630965      0.244760     12.015545\n",
       "min        1.000000      1.000000      0.000000      1.000000\n",
       "25%        4.000000      4.000000      0.000000     14.000000\n",
       "50%       10.000000      4.000000      0.000000     22.000000\n",
       "75%       12.000000      5.000000      0.000000     30.000000\n",
       "max       33.000000      5.000000      1.000000     50.000000"
      ]
     },
     "execution_count": 29,
     "metadata": {},
     "output_type": "execute_result"
    }
   ],
   "source": [
    "df5.describe()"
   ]
  },
  {
   "cell_type": "code",
   "execution_count": 30,
   "metadata": {},
   "outputs": [],
   "source": [
    "#Splitting the data\n",
    "X= df5.drop('Rating', axis=1)\n",
    "y= df5['Rating']\n",
    "X_train, X_test, y_train, y_test = train_test_split(X, y, test_size=0.3)"
   ]
  },
  {
   "cell_type": "code",
   "execution_count": null,
   "metadata": {},
   "outputs": [],
   "source": []
  },
  {
   "cell_type": "code",
   "execution_count": 31,
   "metadata": {},
   "outputs": [
    {
     "name": "stdout",
     "output_type": "stream",
     "text": [
      "              precision    recall  f1-score   support\n",
      "\n",
      "         1.0       0.00      0.00      0.00        29\n",
      "         2.0       0.04      0.03      0.03        95\n",
      "         3.0       0.12      0.10      0.11       545\n",
      "         4.0       0.60      0.63      0.62      5536\n",
      "         5.0       0.41      0.39      0.40      3395\n",
      "\n",
      "    accuracy                           0.51      9600\n",
      "   macro avg       0.23      0.23      0.23      9600\n",
      "weighted avg       0.50      0.51      0.50      9600\n",
      "\n"
     ]
    }
   ],
   "source": [
    "#KNN\n",
    "\n",
    "#Classification report (evalution), k=1\n",
    "k= KNeighborsClassifier(n_neighbors=1)\n",
    "k.fit(X_train,y_train)\n",
    "predictions= k.predict(X_test)\n",
    "\n",
    "print(classification_report(y_test,predictions))"
   ]
  },
  {
   "cell_type": "code",
   "execution_count": 32,
   "metadata": {},
   "outputs": [
    {
     "name": "stdout",
     "output_type": "stream",
     "text": [
      "[[   0    1    2   15   11]\n",
      " [   0    3   13   53   26]\n",
      " [   2   10   56  318  159]\n",
      " [   4   47  272 3503 1710]\n",
      " [   2   16  138 1909 1330]]\n"
     ]
    }
   ],
   "source": [
    "#Confusion Matrix, k=1\n",
    "print(confusion_matrix(y_test, predictions))"
   ]
  },
  {
   "cell_type": "code",
   "execution_count": 33,
   "metadata": {},
   "outputs": [],
   "source": [
    "#The accuracy is about 0.51, I'll try to get a better result using different k values"
   ]
  },
  {
   "cell_type": "code",
   "execution_count": 34,
   "metadata": {},
   "outputs": [
    {
     "name": "stdout",
     "output_type": "stream",
     "text": [
      "              precision    recall  f1-score   support\n",
      "\n",
      "         1.0       0.00      0.00      0.00        29\n",
      "         2.0       0.00      0.00      0.00        95\n",
      "         3.0       0.08      0.03      0.04       545\n",
      "         4.0       0.60      0.76      0.67      5536\n",
      "         5.0       0.45      0.31      0.37      3395\n",
      "\n",
      "    accuracy                           0.55      9600\n",
      "   macro avg       0.23      0.22      0.22      9600\n",
      "weighted avg       0.51      0.55      0.52      9600\n",
      "\n"
     ]
    },
    {
     "name": "stderr",
     "output_type": "stream",
     "text": [
      "C:\\Users\\oryas\\Anaconda3\\lib\\site-packages\\sklearn\\metrics\\classification.py:1437: UndefinedMetricWarning: Precision and F-score are ill-defined and being set to 0.0 in labels with no predicted samples.\n",
      "  'precision', 'predicted', average, warn_for)\n"
     ]
    }
   ],
   "source": [
    "#Classification report, k=5\n",
    "k= KNeighborsClassifier(n_neighbors=5)\n",
    "k.fit(X_train,y_train)\n",
    "predictions= k.predict(X_test)\n",
    "\n",
    "print(classification_report(y_test,predictions))"
   ]
  },
  {
   "cell_type": "code",
   "execution_count": 35,
   "metadata": {},
   "outputs": [
    {
     "name": "stdout",
     "output_type": "stream",
     "text": [
      "[[   0    0    2   23    4]\n",
      " [   0    0    9   73   13]\n",
      " [   0    1   17  448   79]\n",
      " [   0    2  110 4211 1213]\n",
      " [   0    0   73 2260 1062]]\n"
     ]
    }
   ],
   "source": [
    "#Confusion Matrix, k=5\n",
    "print(confusion_matrix(y_test, predictions))"
   ]
  },
  {
   "cell_type": "code",
   "execution_count": 36,
   "metadata": {},
   "outputs": [
    {
     "name": "stdout",
     "output_type": "stream",
     "text": [
      "              precision    recall  f1-score   support\n",
      "\n",
      "         1.0       0.00      0.00      0.00        29\n",
      "         2.0       0.00      0.00      0.00        95\n",
      "         3.0       0.13      0.01      0.02       545\n",
      "         4.0       0.60      0.82      0.69      5536\n",
      "         5.0       0.46      0.26      0.33      3395\n",
      "\n",
      "    accuracy                           0.57      9600\n",
      "   macro avg       0.24      0.22      0.21      9600\n",
      "weighted avg       0.51      0.57      0.52      9600\n",
      "\n"
     ]
    },
    {
     "name": "stderr",
     "output_type": "stream",
     "text": [
      "C:\\Users\\oryas\\Anaconda3\\lib\\site-packages\\sklearn\\metrics\\classification.py:1437: UndefinedMetricWarning: Precision and F-score are ill-defined and being set to 0.0 in labels with no predicted samples.\n",
      "  'precision', 'predicted', average, warn_for)\n"
     ]
    }
   ],
   "source": [
    "#Classification report, k=10\n",
    "k= KNeighborsClassifier(n_neighbors=10)\n",
    "k.fit(X_train,y_train)\n",
    "predictions= k.predict(X_test)\n",
    "\n",
    "print(classification_report(y_test,predictions))"
   ]
  },
  {
   "cell_type": "code",
   "execution_count": 37,
   "metadata": {},
   "outputs": [
    {
     "name": "stdout",
     "output_type": "stream",
     "text": [
      "[[   0    0    1   24    4]\n",
      " [   0    0    3   76   16]\n",
      " [   0    0    7  473   65]\n",
      " [   0    1   30 4550  955]\n",
      " [   0    0   14 2511  870]]\n"
     ]
    }
   ],
   "source": [
    "#Confusion Matrix, k=10\n",
    "print(confusion_matrix(y_test, predictions))"
   ]
  },
  {
   "cell_type": "code",
   "execution_count": 38,
   "metadata": {},
   "outputs": [
    {
     "name": "stdout",
     "output_type": "stream",
     "text": [
      "              precision    recall  f1-score   support\n",
      "\n",
      "         1.0       0.00      0.00      0.00        29\n",
      "         2.0       0.00      0.00      0.00        95\n",
      "         3.0       0.11      0.00      0.00       545\n",
      "         4.0       0.60      0.86      0.71      5536\n",
      "         5.0       0.52      0.26      0.35      3395\n",
      "\n",
      "    accuracy                           0.59      9600\n",
      "   macro avg       0.25      0.22      0.21      9600\n",
      "weighted avg       0.54      0.59      0.53      9600\n",
      "\n"
     ]
    },
    {
     "name": "stderr",
     "output_type": "stream",
     "text": [
      "C:\\Users\\oryas\\Anaconda3\\lib\\site-packages\\sklearn\\metrics\\classification.py:1437: UndefinedMetricWarning: Precision and F-score are ill-defined and being set to 0.0 in labels with no predicted samples.\n",
      "  'precision', 'predicted', average, warn_for)\n"
     ]
    }
   ],
   "source": [
    "#Classification report, k=15\n",
    "k= KNeighborsClassifier(n_neighbors=20)\n",
    "k.fit(X_train,y_train)\n",
    "predictions= k.predict(X_test)\n",
    "\n",
    "print(classification_report(y_test,predictions))"
   ]
  },
  {
   "cell_type": "code",
   "execution_count": 39,
   "metadata": {},
   "outputs": [
    {
     "name": "stdout",
     "output_type": "stream",
     "text": [
      "[[   0    0    0   29    0]\n",
      " [   0    0    0   89    6]\n",
      " [   0    0    1  495   49]\n",
      " [   0    0    5 4750  781]\n",
      " [   0    0    3 2497  895]]\n"
     ]
    }
   ],
   "source": [
    "#Confusion Matrix, k=20\n",
    "print(confusion_matrix(y_test, predictions))"
   ]
  },
  {
   "cell_type": "code",
   "execution_count": 40,
   "metadata": {},
   "outputs": [],
   "source": [
    "#After k=20, the accuracy result is staying the same, therefor the optimum k is 20.\n",
    "\n",
    "#We can see that knn with high k can't predict the rating for the 1, 2 and 3 rating values, which probably means the data\n",
    "#- doesn't have enough apps with these ratings, therefor we can't get a high amount of 'neighbors' in the test in order \n",
    "#- to make this predictions. However the high k has the highest accuracy, since it maneges to get a better prediction\n",
    "#for the rest of the rating values. "
   ]
  },
  {
   "cell_type": "markdown",
   "metadata": {},
   "source": [
    "## KNN result\n",
    "I found out that the optimum k is 20, and the heighest level of accuracy I got was 0.59."
   ]
  },
  {
   "cell_type": "code",
   "execution_count": null,
   "metadata": {},
   "outputs": [],
   "source": []
  },
  {
   "cell_type": "code",
   "execution_count": 41,
   "metadata": {},
   "outputs": [
    {
     "name": "stderr",
     "output_type": "stream",
     "text": [
      "C:\\Users\\oryas\\Anaconda3\\lib\\site-packages\\sklearn\\linear_model\\logistic.py:432: FutureWarning: Default solver will be changed to 'lbfgs' in 0.22. Specify a solver to silence this warning.\n",
      "  FutureWarning)\n",
      "C:\\Users\\oryas\\Anaconda3\\lib\\site-packages\\sklearn\\linear_model\\logistic.py:469: FutureWarning: Default multi_class will be changed to 'auto' in 0.22. Specify the multi_class option to silence this warning.\n",
      "  \"this warning.\", FutureWarning)\n"
     ]
    }
   ],
   "source": [
    "#Logistic Regression\n",
    "\n",
    "lr=LogisticRegression()\n",
    "lr.fit(X_train,y_train)\n",
    "predictions=lr.predict(X_test)"
   ]
  },
  {
   "cell_type": "code",
   "execution_count": 42,
   "metadata": {},
   "outputs": [
    {
     "name": "stderr",
     "output_type": "stream",
     "text": [
      "C:\\Users\\oryas\\Anaconda3\\lib\\site-packages\\sklearn\\metrics\\classification.py:1437: UndefinedMetricWarning: Precision and F-score are ill-defined and being set to 0.0 in labels with no predicted samples.\n",
      "  'precision', 'predicted', average, warn_for)\n"
     ]
    },
    {
     "name": "stdout",
     "output_type": "stream",
     "text": [
      "              precision    recall  f1-score   support\n",
      "\n",
      "         1.0       0.00      0.00      0.00        29\n",
      "         2.0       0.00      0.00      0.00        95\n",
      "         3.0       0.00      0.00      0.00       545\n",
      "         4.0       0.58      0.96      0.73      5536\n",
      "         5.0       0.55      0.07      0.13      3395\n",
      "\n",
      "    accuracy                           0.58      9600\n",
      "   macro avg       0.23      0.21      0.17      9600\n",
      "weighted avg       0.53      0.58      0.47      9600\n",
      "\n"
     ]
    }
   ],
   "source": [
    "#Classification report\n",
    "print(classification_report(y_test,predictions))"
   ]
  },
  {
   "cell_type": "code",
   "execution_count": 43,
   "metadata": {},
   "outputs": [
    {
     "name": "stdout",
     "output_type": "stream",
     "text": [
      "[[   0    0    0   29    0]\n",
      " [   0    0    0   92    3]\n",
      " [   0    0    0  537    8]\n",
      " [   0    0    0 5339  197]\n",
      " [   0    0    0 3142  253]]\n"
     ]
    }
   ],
   "source": [
    "#Confusion Matrix\n",
    "print(confusion_matrix(y_test, predictions))"
   ]
  },
  {
   "cell_type": "code",
   "execution_count": 44,
   "metadata": {},
   "outputs": [],
   "source": [
    "#Logistic Regression usualy works best for a binary classification problem (and not multiclass like in this project)\n",
    "#- That's apparently why the model tried to make predictions for the two most common values in the data\n",
    "#- The results are similar to the knn predictions."
   ]
  },
  {
   "cell_type": "code",
   "execution_count": 45,
   "metadata": {},
   "outputs": [],
   "source": [
    "#Logistic regression is a statistical model that in its basic form uses a logistic function to model a binary\n",
    "#- dependent variable, although many more complex extensions exist. \n",
    "\n",
    "#In the logistic model, the logarithm of the odds for the each value is a linear combination of one or more\n",
    "#- independent variables. The function that converts log-odds to probability is the logistic function."
   ]
  },
  {
   "cell_type": "markdown",
   "metadata": {},
   "source": [
    "## Logistic Regression result\n",
    "Accuracy was 0.58"
   ]
  },
  {
   "cell_type": "code",
   "execution_count": null,
   "metadata": {},
   "outputs": [],
   "source": []
  },
  {
   "cell_type": "code",
   "execution_count": 46,
   "metadata": {},
   "outputs": [],
   "source": [
    "#Random Forest\n",
    "\n",
    "#Creating the model with 100 trees\n",
    "rf = RandomForestClassifier(n_estimators=100, bootstrap = True)\n",
    "rf.fit(X_train, y_train)\n",
    "predictions= rf.predict(X_test)"
   ]
  },
  {
   "cell_type": "code",
   "execution_count": 47,
   "metadata": {},
   "outputs": [
    {
     "name": "stdout",
     "output_type": "stream",
     "text": [
      "              precision    recall  f1-score   support\n",
      "\n",
      "         1.0       0.00      0.00      0.00        29\n",
      "         2.0       0.00      0.00      0.00        95\n",
      "         3.0       0.06      0.01      0.01       545\n",
      "         4.0       0.61      0.83      0.70      5536\n",
      "         5.0       0.51      0.30      0.38      3395\n",
      "\n",
      "    accuracy                           0.59      9600\n",
      "   macro avg       0.24      0.23      0.22      9600\n",
      "weighted avg       0.54      0.59      0.54      9600\n",
      "\n"
     ]
    },
    {
     "name": "stderr",
     "output_type": "stream",
     "text": [
      "C:\\Users\\oryas\\Anaconda3\\lib\\site-packages\\sklearn\\metrics\\classification.py:1437: UndefinedMetricWarning: Precision and F-score are ill-defined and being set to 0.0 in labels with no predicted samples.\n",
      "  'precision', 'predicted', average, warn_for)\n"
     ]
    }
   ],
   "source": [
    "#Classification report\n",
    "print(classification_report(y_test,predictions))"
   ]
  },
  {
   "cell_type": "code",
   "execution_count": 48,
   "metadata": {},
   "outputs": [
    {
     "name": "stdout",
     "output_type": "stream",
     "text": [
      "[[   0    0    0   24    5]\n",
      " [   0    0    2   86    7]\n",
      " [   0    1    3  480   61]\n",
      " [   0    2   28 4614  892]\n",
      " [   0    1   20 2361 1013]]\n"
     ]
    }
   ],
   "source": [
    "#Confusion Matrix\n",
    "print(confusion_matrix(y_test, predictions))"
   ]
  },
  {
   "cell_type": "code",
   "execution_count": 49,
   "metadata": {},
   "outputs": [],
   "source": [
    "#Like the other models, I think random forest has almost the same accuracy because we don't have enough apps rated \n",
    "#- 1, 2 and 3. We can see in the confusion matrix that the predictions for apps rated 4 is the best, probably since we\n",
    "#- have a high amount of apps to be trained on."
   ]
  },
  {
   "cell_type": "code",
   "execution_count": 50,
   "metadata": {},
   "outputs": [],
   "source": [
    "#Random Forest is a model made up of many decision trees. When using a decision tree classifier we will often have \n",
    "#- overfitting if the data has high variance. As an alternative to limiting the depth of the tree, which reduces \n",
    "#- variance and increases bias, we combine many decision trees into a random forest.\n",
    "\n",
    "#When training, each tree in a random forest learns from a random sample of the data points. The bootstrapping means \n",
    "#- that some samples will be used multiple times in a single tree. The idea is that by training each tree on \n",
    "#- different samples, although each tree might have high variance, the entire forest will have lower variance but\n",
    "#- not at the cost of increasing the bias."
   ]
  },
  {
   "cell_type": "markdown",
   "metadata": {},
   "source": [
    "## Random Forest\n",
    "Accuracy was 0.59"
   ]
  },
  {
   "cell_type": "code",
   "execution_count": null,
   "metadata": {},
   "outputs": [],
   "source": []
  },
  {
   "cell_type": "markdown",
   "metadata": {},
   "source": [
    "## Model scores"
   ]
  },
  {
   "cell_type": "code",
   "execution_count": 51,
   "metadata": {},
   "outputs": [
    {
     "data": {
      "text/plain": [
       "0.588125"
      ]
     },
     "execution_count": 51,
     "metadata": {},
     "output_type": "execute_result"
    }
   ],
   "source": [
    "#knn\n",
    "k.score(X_test,y_test)"
   ]
  },
  {
   "cell_type": "code",
   "execution_count": 52,
   "metadata": {},
   "outputs": [
    {
     "data": {
      "text/plain": [
       "0.6131970177240056"
      ]
     },
     "execution_count": 52,
     "metadata": {},
     "output_type": "execute_result"
    }
   ],
   "source": [
    "k.score(X_train,y_train)"
   ]
  },
  {
   "cell_type": "code",
   "execution_count": null,
   "metadata": {},
   "outputs": [],
   "source": []
  },
  {
   "cell_type": "code",
   "execution_count": 53,
   "metadata": {},
   "outputs": [
    {
     "data": {
      "text/plain": [
       "0.5825"
      ]
     },
     "execution_count": 53,
     "metadata": {},
     "output_type": "execute_result"
    }
   ],
   "source": [
    "#Logistic Regression\n",
    "lr.score(X_test,y_test)"
   ]
  },
  {
   "cell_type": "code",
   "execution_count": 54,
   "metadata": {},
   "outputs": [
    {
     "data": {
      "text/plain": [
       "0.5829724541274164"
      ]
     },
     "execution_count": 54,
     "metadata": {},
     "output_type": "execute_result"
    }
   ],
   "source": [
    "lr.score(X_train,y_train)"
   ]
  },
  {
   "cell_type": "code",
   "execution_count": null,
   "metadata": {},
   "outputs": [],
   "source": []
  },
  {
   "cell_type": "code",
   "execution_count": 55,
   "metadata": {},
   "outputs": [
    {
     "data": {
      "text/plain": [
       "0.5864583333333333"
      ]
     },
     "execution_count": 55,
     "metadata": {},
     "output_type": "execute_result"
    }
   ],
   "source": [
    "#Random Forest\n",
    "rf.score(X_test,y_test)"
   ]
  },
  {
   "cell_type": "code",
   "execution_count": 56,
   "metadata": {},
   "outputs": [
    {
     "data": {
      "text/plain": [
       "0.6393588999508907"
      ]
     },
     "execution_count": 56,
     "metadata": {},
     "output_type": "execute_result"
    }
   ],
   "source": [
    "rf.score(X_train,y_train)"
   ]
  },
  {
   "cell_type": "code",
   "execution_count": null,
   "metadata": {},
   "outputs": [],
   "source": []
  },
  {
   "cell_type": "markdown",
   "metadata": {},
   "source": [
    "## Conclusions\n",
    "After learning the data, cleaning and preparing it for the predictions, and using a few classifiers, I belive that the data doesn't contain enough information in order to get a good prediction about what is most likely to be the app's rating.\n",
    "I think some very important information is missing, and if we had a way of getting it the predictions would have been better (like if we had the ability to know how many installs and how many reviews a new app will have) . For example- \n",
    "1. Averge time the app is staying in users phone.\n",
    "2. Averge number of times users open the app in a week.\n",
    "3. Averge amount of time users spend in the app each time they open it."
   ]
  },
  {
   "cell_type": "code",
   "execution_count": null,
   "metadata": {},
   "outputs": [],
   "source": []
  }
 ],
 "metadata": {
  "kernelspec": {
   "display_name": "Python 3",
   "language": "python",
   "name": "python3"
  },
  "language_info": {
   "codemirror_mode": {
    "name": "ipython",
    "version": 3
   },
   "file_extension": ".py",
   "mimetype": "text/x-python",
   "name": "python",
   "nbconvert_exporter": "python",
   "pygments_lexer": "ipython3",
   "version": "3.7.4"
  }
 },
 "nbformat": 4,
 "nbformat_minor": 2
}
